{
 "cells": [
  {
   "cell_type": "code",
   "execution_count": 2,
   "id": "da06f3e5",
   "metadata": {},
   "outputs": [],
   "source": [
    "from sklearn.neighbors import KNeighborsClassifier\n",
    "from sklearn.linear_model import LogisticRegression\n",
    "from sklearn.svm import SVC\n",
    "from sklearn.ensemble import RandomForestClassifier, AdaBoostClassifier\n",
    "from sklearn.model_selection import train_test_split, cross_val_score\n",
    "from sklearn.metrics import accuracy_score,precision_score,confusion_matrix,classification_report, precision_recall_curve\n",
    "import numpy as np\n",
    "import pandas as pd"
   ]
  },
  {
   "cell_type": "code",
   "execution_count": 3,
   "id": "d00d5689",
   "metadata": {
    "scrolled": true
   },
   "outputs": [
    {
     "data": {
      "text/plain": [
       "Unnamed: 0     int64\n",
       "cuisine       object\n",
       "almond         int64\n",
       "angelica       int64\n",
       "anise          int64\n",
       "               ...  \n",
       "wood           int64\n",
       "yam            int64\n",
       "yeast          int64\n",
       "yogurt         int64\n",
       "zucchini       int64\n",
       "Length: 382, dtype: object"
      ]
     },
     "execution_count": 3,
     "metadata": {},
     "output_type": "execute_result"
    }
   ],
   "source": [
    "cus=pd.read_csv('../data/cleaned_cuisines.csv')\n",
    "cus.dtypes"
   ]
  },
  {
   "cell_type": "code",
   "execution_count": 4,
   "id": "b6254188",
   "metadata": {},
   "outputs": [],
   "source": [
    "cuisines_feature_df=cus.drop(['Unnamed: 0','cuisine'],axis=1)"
   ]
  },
  {
   "cell_type": "code",
   "execution_count": 9,
   "id": "31af1350",
   "metadata": {},
   "outputs": [
    {
     "data": {
      "text/plain": [
       "<bound method NDFrame.head of       almond  angelica  anise  anise_seed  apple  apple_brandy  apricot  \\\n",
       "0          0         0      0           0      0             0        0   \n",
       "1          1         0      0           0      0             0        0   \n",
       "2          0         0      0           0      0             0        0   \n",
       "3          0         0      0           0      0             0        0   \n",
       "4          0         0      0           0      0             0        0   \n",
       "...      ...       ...    ...         ...    ...           ...      ...   \n",
       "3990       0         0      0           0      0             0        0   \n",
       "3991       0         0      0           0      0             0        0   \n",
       "3992       0         0      0           0      0             0        0   \n",
       "3993       0         0      0           0      0             0        0   \n",
       "3994       0         0      0           0      0             0        0   \n",
       "\n",
       "      armagnac  artemisia  artichoke  ...  whiskey  white_bread  white_wine  \\\n",
       "0            0          0          0  ...        0            0           0   \n",
       "1            0          0          0  ...        0            0           0   \n",
       "2            0          0          0  ...        0            0           0   \n",
       "3            0          0          0  ...        0            0           0   \n",
       "4            0          0          0  ...        0            0           0   \n",
       "...        ...        ...        ...  ...      ...          ...         ...   \n",
       "3990         0          0          0  ...        0            0           0   \n",
       "3991         0          0          0  ...        0            0           0   \n",
       "3992         0          0          0  ...        0            0           0   \n",
       "3993         0          0          0  ...        0            0           0   \n",
       "3994         0          0          0  ...        0            0           0   \n",
       "\n",
       "      whole_grain_wheat_flour  wine  wood  yam  yeast  yogurt  zucchini  \n",
       "0                           0     0     0    0      0       0         0  \n",
       "1                           0     0     0    0      0       0         0  \n",
       "2                           0     0     0    0      0       0         0  \n",
       "3                           0     0     0    0      0       0         0  \n",
       "4                           0     0     0    0      0       1         0  \n",
       "...                       ...   ...   ...  ...    ...     ...       ...  \n",
       "3990                        0     0     0    0      0       0         0  \n",
       "3991                        0     0     0    0      0       0         0  \n",
       "3992                        0     0     0    0      0       0         0  \n",
       "3993                        0     0     0    0      0       0         0  \n",
       "3994                        0     0     0    0      0       0         0  \n",
       "\n",
       "[3995 rows x 380 columns]>"
      ]
     },
     "execution_count": 9,
     "metadata": {},
     "output_type": "execute_result"
    }
   ],
   "source": [
    "cuisines_feature_df.head"
   ]
  },
  {
   "cell_type": "code",
   "execution_count": 6,
   "id": "143ceb73",
   "metadata": {},
   "outputs": [],
   "source": [
    "cuisines_label_df=cus['cuisine']"
   ]
  },
  {
   "cell_type": "code",
   "execution_count": 8,
   "id": "f5f33ca5",
   "metadata": {},
   "outputs": [
    {
     "data": {
      "text/plain": [
       "<bound method NDFrame.head of 0       indian\n",
       "1       indian\n",
       "2       indian\n",
       "3       indian\n",
       "4       indian\n",
       "         ...  \n",
       "3990      thai\n",
       "3991      thai\n",
       "3992      thai\n",
       "3993      thai\n",
       "3994      thai\n",
       "Name: cuisine, Length: 3995, dtype: object>"
      ]
     },
     "execution_count": 8,
     "metadata": {},
     "output_type": "execute_result"
    }
   ],
   "source": [
    "cuisines_label_df.head"
   ]
  },
  {
   "cell_type": "code",
   "execution_count": 16,
   "id": "427f5171",
   "metadata": {},
   "outputs": [],
   "source": [
    "X_train, X_test, y_train, y_test = train_test_split(cuisines_feature_df, cuisines_label_df, test_size=0.3,random_state=0)\n"
   ]
  },
  {
   "cell_type": "code",
   "execution_count": 19,
   "id": "e165a8a0",
   "metadata": {},
   "outputs": [],
   "source": [
    "C = 10\n",
    "# Create different classifiers.\n",
    "classifiers = {\n",
    "    'Linear SVC': SVC(kernel='linear', C=C, probability=True,random_state=0),\n",
    "    'KNN classifier': KNeighborsClassifier(C),\n",
    "    'SVC': SVC(),\n",
    "}"
   ]
  },
  {
   "cell_type": "code",
   "execution_count": 20,
   "id": "d36923e0",
   "metadata": {},
   "outputs": [
    {
     "name": "stdout",
     "output_type": "stream",
     "text": [
      "Accuracy (train) for Linear SVC: 78.1% \n",
      "              precision    recall  f1-score   support\n",
      "\n",
      "     chinese       0.68      0.69      0.68       245\n",
      "      indian       0.82      0.90      0.86       233\n",
      "    japanese       0.78      0.77      0.77       249\n",
      "      korean       0.84      0.73      0.78       222\n",
      "        thai       0.80      0.82      0.81       250\n",
      "\n",
      "    accuracy                           0.78      1199\n",
      "   macro avg       0.78      0.78      0.78      1199\n",
      "weighted avg       0.78      0.78      0.78      1199\n",
      "\n",
      "Accuracy (train) for KNN classifier: 72.1% \n",
      "              precision    recall  f1-score   support\n",
      "\n",
      "     chinese       0.65      0.64      0.64       245\n",
      "      indian       0.80      0.83      0.82       233\n",
      "    japanese       0.64      0.81      0.71       249\n",
      "      korean       0.93      0.51      0.66       222\n",
      "        thai       0.72      0.80      0.76       250\n",
      "\n",
      "    accuracy                           0.72      1199\n",
      "   macro avg       0.75      0.72      0.72      1199\n",
      "weighted avg       0.74      0.72      0.72      1199\n",
      "\n",
      "Accuracy (train) for SVC: 81.9% \n",
      "              precision    recall  f1-score   support\n",
      "\n",
      "     chinese       0.77      0.70      0.74       245\n",
      "      indian       0.86      0.90      0.88       233\n",
      "    japanese       0.80      0.83      0.82       249\n",
      "      korean       0.88      0.79      0.83       222\n",
      "        thai       0.79      0.88      0.83       250\n",
      "\n",
      "    accuracy                           0.82      1199\n",
      "   macro avg       0.82      0.82      0.82      1199\n",
      "weighted avg       0.82      0.82      0.82      1199\n",
      "\n"
     ]
    }
   ],
   "source": [
    "n_classifiers = len(classifiers)\n",
    "\n",
    "for index, (name, classifier) in enumerate(classifiers.items()):\n",
    "    classifier.fit(X_train, np.ravel(y_train))\n",
    "\n",
    "    y_pred = classifier.predict(X_test)\n",
    "    accuracy = accuracy_score(y_test, y_pred)\n",
    "    print(\"Accuracy (train) for %s: %0.1f%% \" % (name, accuracy * 100))\n",
    "    print(classification_report(y_test,y_pred))\n"
   ]
  },
  {
   "cell_type": "code",
   "execution_count": 29,
   "id": "39ac48c2",
   "metadata": {},
   "outputs": [
    {
     "name": "stdout",
     "output_type": "stream",
     "text": [
      "dict_items([('Linear SVC', SVC(C=10, kernel='linear', probability=True, random_state=0)), ('KNN classifier', KNeighborsClassifier(n_neighbors=10)), ('SVC', SVC())])\n"
     ]
    }
   ],
   "source": [
    "print(classifiers.items())"
   ]
  },
  {
   "cell_type": "code",
   "execution_count": null,
   "id": "89a3a2f5",
   "metadata": {},
   "outputs": [],
   "source": []
  }
 ],
 "metadata": {
  "kernelspec": {
   "display_name": "Python 3 (ipykernel)",
   "language": "python",
   "name": "python3"
  },
  "language_info": {
   "codemirror_mode": {
    "name": "ipython",
    "version": 3
   },
   "file_extension": ".py",
   "mimetype": "text/x-python",
   "name": "python",
   "nbconvert_exporter": "python",
   "pygments_lexer": "ipython3",
   "version": "3.9.1"
  }
 },
 "nbformat": 4,
 "nbformat_minor": 5
}
